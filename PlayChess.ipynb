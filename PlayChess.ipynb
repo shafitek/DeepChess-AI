{
 "cells": [
  {
   "cell_type": "code",
   "execution_count": null,
   "metadata": {},
   "outputs": [],
   "source": [
    "%load_ext autoreload\n",
    "%autoreload 2\n",
    "\n",
    "import os\n",
    "import time\n",
    "import random\n",
    "\n",
    "import chess\n",
    "import chess.engine\n",
    "import chess.svg\n",
    "\n",
    "from engine.deepchess import DeepChessEngine"
   ]
  },
  {
   "cell_type": "code",
   "execution_count": null,
   "metadata": {},
   "outputs": [],
   "source": [
    "\"\"\" GLOBAL VARIABLES \"\"\"\n",
    "\n",
    "GAMES_TO_PLAY = 1\n",
    "\n",
    "STOCK_FISH_ENGINE_PATH = \"engine/stockfish_x64\"\n",
    "\n",
    "\"\"\" ENGINES AVAILABLE \n",
    "*_ENGINE = 0 <- DEEPCHESS (DEFAULT)\n",
    "*_ENGINE = 1 <- STOCKFISH\n",
    "\n",
    "MY_ENGINE - WHITE\n",
    "ENEMY_ENGINE - BLACK\n",
    "\"\"\"\n",
    "\n",
    "MY_ENGINE = 0\n",
    "ENEMY_ENGINE  = 1\n",
    "\n",
    "MY_ENGINE_DEPTH = 5\n",
    "ENEMY_ENGINE_DEPTH = 4"
   ]
  },
  {
   "cell_type": "code",
   "execution_count": null,
   "metadata": {},
   "outputs": [],
   "source": [
    "def getEngine(ENGINE, ENGINE_DEPTH, COLOR=True):\n",
    "    # Initialize the adversarial engine\n",
    "    if ENGINE == 0:\n",
    "        deepchess = DeepChessEngine(ENGINE_DEPTH, COLOR)\n",
    "        return deepchess\n",
    "    elif ENGINE == 1:\n",
    "        return chess.engine.SimpleEngine.popen_uci(STOCK_FISH_ENGINE_PATH)\n",
    "    return chess.engine.SimpleEngine.popen_xboard(CRAFTY_ENGINE_PATH)"
   ]
  },
  {
   "cell_type": "code",
   "execution_count": null,
   "metadata": {},
   "outputs": [],
   "source": [
    "def playAGame():\n",
    "\n",
    "    board = chess.Board()\n",
    "    my_engine = getEngine(MY_ENGINE, MY_ENGINE_DEPTH)\n",
    "    enemy_engine = getEngine(ENEMY_ENGINE, ENEMY_ENGINE_DEPTH)\n",
    "\n",
    "    while not board.is_game_over():\n",
    "        my_move = my_engine.play(board, chess.engine.Limit(depth=MY_ENGINE_DEPTH))\n",
    "        board.push(my_move.move)\n",
    "\n",
    "        display(chess.svg.board(board=board))\n",
    "\n",
    "        if board.is_game_over():\n",
    "            break\n",
    "\n",
    "        enemy_move = enemy_engine.play(board, chess.engine.Limit(depth=ENEMY_ENGINE_DEPTH))\n",
    "        board.push(enemy_move.move)\n",
    "\n",
    "        display(chess.svg.board(board=board))\n",
    "        print(\"\\n---\\n\")\n",
    "    \n",
    "    print(\"Game over!\")\n",
    "    print(\"Result\", board.result())"
   ]
  },
  {
   "cell_type": "code",
   "execution_count": null,
   "metadata": {
    "scrolled": false,
    "tags": [
     "outputPrepend"
    ]
   },
   "outputs": [],
   "source": [
    "playAGame()"
   ]
  }
 ],
 "metadata": {
  "kernelspec": {
   "display_name": "Python 3",
   "language": "python",
   "name": "python3"
  },
  "language_info": {
   "codemirror_mode": {
    "name": "ipython",
    "version": 3
   },
   "file_extension": ".py",
   "mimetype": "text/x-python",
   "name": "python",
   "nbconvert_exporter": "python",
   "pygments_lexer": "ipython3",
   "version": "3.6.9"
  }
 },
 "nbformat": 4,
 "nbformat_minor": 2
}
